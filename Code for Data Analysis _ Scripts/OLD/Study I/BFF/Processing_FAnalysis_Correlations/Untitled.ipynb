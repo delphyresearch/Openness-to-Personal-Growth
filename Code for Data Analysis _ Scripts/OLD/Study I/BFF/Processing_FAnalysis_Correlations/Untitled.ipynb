{
 "cells": [
  {
   "cell_type": "code",
   "execution_count": 1,
   "metadata": {},
   "outputs": [],
   "source": [
    "import pandas as pd"
   ]
  },
  {
   "cell_type": "code",
   "execution_count": 2,
   "metadata": {},
   "outputs": [],
   "source": [
    "from scipy import stats as ss"
   ]
  },
  {
   "cell_type": "code",
   "execution_count": 4,
   "metadata": {},
   "outputs": [],
   "source": [
    "d = pd.read_csv(\"./STUDY_1_BFF_Answers.csv\")"
   ]
  },
  {
   "cell_type": "code",
   "execution_count": 6,
   "metadata": {},
   "outputs": [
    {
     "data": {
      "text/plain": [
       "Index(['BF-F1+', 'BF-F2+', 'BF-F3+', 'BF-F4+', 'BF-F5+', 'BF-F6-', 'BF-F7+',\n",
       "       'BF-F8+', 'BF-F9+', 'BF-F10+',\n",
       "       ...\n",
       "       'BF-F93+', 'BF-F94+', 'BF-F95+', 'BF-F96+', 'BF-F97+', 'BF-F98+',\n",
       "       'BF-F99+', 'BF-F100+', 'BF-F101+', 'BF-F102+'],\n",
       "      dtype='object', length=102)"
      ]
     },
     "execution_count": 6,
     "metadata": {},
     "output_type": "execute_result"
    }
   ],
   "source": [
    "d.columns"
   ]
  },
  {
   "cell_type": "raw",
   "metadata": {},
   "source": []
  }
 ],
 "metadata": {
  "kernelspec": {
   "display_name": "Python 3",
   "language": "python",
   "name": "python3"
  },
  "language_info": {
   "codemirror_mode": {
    "name": "ipython",
    "version": 3
   },
   "file_extension": ".py",
   "mimetype": "text/x-python",
   "name": "python",
   "nbconvert_exporter": "python",
   "pygments_lexer": "ipython3",
   "version": "3.8.2"
  }
 },
 "nbformat": 4,
 "nbformat_minor": 2
}
